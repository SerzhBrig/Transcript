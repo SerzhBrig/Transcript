{
  "nbformat": 4,
  "nbformat_minor": 0,
  "metadata": {
    "colab": {
      "provenance": []
    },
    "kernelspec": {
      "name": "python3",
      "display_name": "Python 3"
    },
    "language_info": {
      "name": "python"
    }
  },
  "cells": [
    {
      "cell_type": "markdown",
      "source": [
        " UMI может распределяться бимодально по нескольким причинам. Во первых, в одном наборе данных могут присутствовать разные типы клеток с различной активностью транскрипции. Например высоактивные и малоактивные клетки, будет две моды. Во-вторых, технические причины вносят вклад в проявление бимодальности"
      ],
      "metadata": {
        "id": "zpqB6sRUS2UY"
      }
    },
    {
      "cell_type": "markdown",
      "source": [
        "Macosko et al. (2015) - \"Highly Parallel Genome-wide Expression Profiling of Individual Cells Using Nanoliter Droplets\""
      ],
      "metadata": {
        "id": "obF3TPgsSiXk"
      }
    },
    {
      "cell_type": "markdown",
      "source": [
        "Zheng et al. (2017) - \"Massively parallel digital transcriptional profiling of single cells\""
      ],
      "metadata": {
        "id": "nwHsDcHbSk_B"
      }
    },
    {
      "cell_type": "markdown",
      "source": [
        "Alemu et al. (2020) - \"Single-cell RNA sequencing of immune cells: An update\""
      ],
      "metadata": {
        "id": "8bchGKPqSvqU"
      }
    },
    {
      "cell_type": "code",
      "source": [
        "!pip install scanpy[leiden] scrublet\n",
        "!gdown \"1Ctq4EmV2ps1dMiFcbqW467ywezRSGGN0&confirm=t\"\n"
      ],
      "metadata": {
        "colab": {
          "base_uri": "https://localhost:8080/"
        },
        "id": "c8VrPxxaSpjm",
        "outputId": "8230553b-a567-4174-b5fa-6c9e49a08e43"
      },
      "execution_count": 1,
      "outputs": [
        {
          "output_type": "stream",
          "name": "stdout",
          "text": [
            "Collecting scanpy[leiden]\n",
            "  Downloading scanpy-1.10.2-py3-none-any.whl (2.1 MB)\n",
            "\u001b[2K     \u001b[90m━━━━━━━━━━━━━━━━━━━━━━━━━━━━━━━━━━━━━━━━\u001b[0m \u001b[32m2.1/2.1 MB\u001b[0m \u001b[31m10.4 MB/s\u001b[0m eta \u001b[36m0:00:00\u001b[0m\n",
            "\u001b[?25hCollecting scrublet\n",
            "  Downloading scrublet-0.2.3-py3-none-any.whl (15 kB)\n",
            "Collecting anndata>=0.8 (from scanpy[leiden])\n",
            "  Downloading anndata-0.10.8-py3-none-any.whl (124 kB)\n",
            "\u001b[2K     \u001b[90m━━━━━━━━━━━━━━━━━━━━━━━━━━━━━━━━━━━━━━━━\u001b[0m \u001b[32m124.4/124.4 kB\u001b[0m \u001b[31m2.6 MB/s\u001b[0m eta \u001b[36m0:00:00\u001b[0m\n",
            "\u001b[?25hRequirement already satisfied: h5py>=3.1 in /usr/local/lib/python3.10/dist-packages (from scanpy[leiden]) (3.9.0)\n",
            "Requirement already satisfied: joblib in /usr/local/lib/python3.10/dist-packages (from scanpy[leiden]) (1.4.2)\n",
            "Collecting legacy-api-wrap>=1.4 (from scanpy[leiden])\n",
            "  Downloading legacy_api_wrap-1.4-py3-none-any.whl (15 kB)\n",
            "Requirement already satisfied: matplotlib>=3.6 in /usr/local/lib/python3.10/dist-packages (from scanpy[leiden]) (3.7.1)\n",
            "Requirement already satisfied: natsort in /usr/local/lib/python3.10/dist-packages (from scanpy[leiden]) (8.4.0)\n",
            "Requirement already satisfied: networkx>=2.7 in /usr/local/lib/python3.10/dist-packages (from scanpy[leiden]) (3.3)\n",
            "Requirement already satisfied: numba>=0.56 in /usr/local/lib/python3.10/dist-packages (from scanpy[leiden]) (0.58.1)\n",
            "Requirement already satisfied: numpy<2,>=1.23 in /usr/local/lib/python3.10/dist-packages (from scanpy[leiden]) (1.25.2)\n",
            "Requirement already satisfied: packaging>=21.3 in /usr/local/lib/python3.10/dist-packages (from scanpy[leiden]) (24.1)\n",
            "Requirement already satisfied: pandas>=1.5 in /usr/local/lib/python3.10/dist-packages (from scanpy[leiden]) (2.0.3)\n",
            "Requirement already satisfied: patsy in /usr/local/lib/python3.10/dist-packages (from scanpy[leiden]) (0.5.6)\n",
            "Collecting pynndescent>=0.5 (from scanpy[leiden])\n",
            "  Downloading pynndescent-0.5.13-py3-none-any.whl (56 kB)\n",
            "\u001b[2K     \u001b[90m━━━━━━━━━━━━━━━━━━━━━━━━━━━━━━━━━━━━━━━━\u001b[0m \u001b[32m56.9/56.9 kB\u001b[0m \u001b[31m5.0 MB/s\u001b[0m eta \u001b[36m0:00:00\u001b[0m\n",
            "\u001b[?25hRequirement already satisfied: scikit-learn>=0.24 in /usr/local/lib/python3.10/dist-packages (from scanpy[leiden]) (1.2.2)\n",
            "Requirement already satisfied: scipy>=1.8 in /usr/local/lib/python3.10/dist-packages (from scanpy[leiden]) (1.11.4)\n",
            "Requirement already satisfied: seaborn>=0.13 in /usr/local/lib/python3.10/dist-packages (from scanpy[leiden]) (0.13.1)\n",
            "Collecting session-info (from scanpy[leiden])\n",
            "  Downloading session_info-1.0.0.tar.gz (24 kB)\n",
            "  Preparing metadata (setup.py) ... \u001b[?25l\u001b[?25hdone\n",
            "Requirement already satisfied: statsmodels>=0.13 in /usr/local/lib/python3.10/dist-packages (from scanpy[leiden]) (0.14.2)\n",
            "Requirement already satisfied: tqdm in /usr/local/lib/python3.10/dist-packages (from scanpy[leiden]) (4.66.4)\n",
            "Collecting umap-learn!=0.5.0,>=0.5 (from scanpy[leiden])\n",
            "  Downloading umap_learn-0.5.6-py3-none-any.whl (85 kB)\n",
            "\u001b[2K     \u001b[90m━━━━━━━━━━━━━━━━━━━━━━━━━━━━━━━━━━━━━━━━\u001b[0m \u001b[32m85.7/85.7 kB\u001b[0m \u001b[31m6.8 MB/s\u001b[0m eta \u001b[36m0:00:00\u001b[0m\n",
            "\u001b[?25hCollecting igraph>=0.10 (from scanpy[leiden])\n",
            "  Downloading igraph-0.11.6-cp39-abi3-manylinux_2_17_x86_64.manylinux2014_x86_64.whl (3.1 MB)\n",
            "\u001b[2K     \u001b[90m━━━━━━━━━━━━━━━━━━━━━━━━━━━━━━━━━━━━━━━━\u001b[0m \u001b[32m3.1/3.1 MB\u001b[0m \u001b[31m27.5 MB/s\u001b[0m eta \u001b[36m0:00:00\u001b[0m\n",
            "\u001b[?25hCollecting leidenalg>=0.9.0 (from scanpy[leiden])\n",
            "  Downloading leidenalg-0.10.2-cp38-abi3-manylinux_2_17_x86_64.manylinux2014_x86_64.whl (2.0 MB)\n",
            "\u001b[2K     \u001b[90m━━━━━━━━━━━━━━━━━━━━━━━━━━━━━━━━━━━━━━━━\u001b[0m \u001b[32m2.0/2.0 MB\u001b[0m \u001b[31m36.4 MB/s\u001b[0m eta \u001b[36m0:00:00\u001b[0m\n",
            "\u001b[?25hRequirement already satisfied: cython in /usr/local/lib/python3.10/dist-packages (from scrublet) (3.0.10)\n",
            "Requirement already satisfied: scikit-image in /usr/local/lib/python3.10/dist-packages (from scrublet) (0.19.3)\n",
            "Collecting annoy (from scrublet)\n",
            "  Downloading annoy-1.17.3.tar.gz (647 kB)\n",
            "\u001b[2K     \u001b[90m━━━━━━━━━━━━━━━━━━━━━━━━━━━━━━━━━━━━━━━━\u001b[0m \u001b[32m647.5/647.5 kB\u001b[0m \u001b[31m37.8 MB/s\u001b[0m eta \u001b[36m0:00:00\u001b[0m\n",
            "\u001b[?25h  Preparing metadata (setup.py) ... \u001b[?25l\u001b[?25hdone\n",
            "Collecting array-api-compat!=1.5,>1.4 (from anndata>=0.8->scanpy[leiden])\n",
            "  Downloading array_api_compat-1.7.1-py3-none-any.whl (37 kB)\n",
            "Requirement already satisfied: exceptiongroup in /usr/local/lib/python3.10/dist-packages (from anndata>=0.8->scanpy[leiden]) (1.2.1)\n",
            "Collecting texttable>=1.6.2 (from igraph>=0.10->scanpy[leiden])\n",
            "  Downloading texttable-1.7.0-py2.py3-none-any.whl (10 kB)\n",
            "Requirement already satisfied: contourpy>=1.0.1 in /usr/local/lib/python3.10/dist-packages (from matplotlib>=3.6->scanpy[leiden]) (1.2.1)\n",
            "Requirement already satisfied: cycler>=0.10 in /usr/local/lib/python3.10/dist-packages (from matplotlib>=3.6->scanpy[leiden]) (0.12.1)\n",
            "Requirement already satisfied: fonttools>=4.22.0 in /usr/local/lib/python3.10/dist-packages (from matplotlib>=3.6->scanpy[leiden]) (4.53.1)\n",
            "Requirement already satisfied: kiwisolver>=1.0.1 in /usr/local/lib/python3.10/dist-packages (from matplotlib>=3.6->scanpy[leiden]) (1.4.5)\n",
            "Requirement already satisfied: pillow>=6.2.0 in /usr/local/lib/python3.10/dist-packages (from matplotlib>=3.6->scanpy[leiden]) (9.4.0)\n",
            "Requirement already satisfied: pyparsing>=2.3.1 in /usr/local/lib/python3.10/dist-packages (from matplotlib>=3.6->scanpy[leiden]) (3.1.2)\n",
            "Requirement already satisfied: python-dateutil>=2.7 in /usr/local/lib/python3.10/dist-packages (from matplotlib>=3.6->scanpy[leiden]) (2.8.2)\n",
            "Requirement already satisfied: llvmlite<0.42,>=0.41.0dev0 in /usr/local/lib/python3.10/dist-packages (from numba>=0.56->scanpy[leiden]) (0.41.1)\n",
            "Requirement already satisfied: pytz>=2020.1 in /usr/local/lib/python3.10/dist-packages (from pandas>=1.5->scanpy[leiden]) (2023.4)\n",
            "Requirement already satisfied: tzdata>=2022.1 in /usr/local/lib/python3.10/dist-packages (from pandas>=1.5->scanpy[leiden]) (2024.1)\n",
            "Requirement already satisfied: threadpoolctl>=2.0.0 in /usr/local/lib/python3.10/dist-packages (from scikit-learn>=0.24->scanpy[leiden]) (3.5.0)\n",
            "Requirement already satisfied: six in /usr/local/lib/python3.10/dist-packages (from patsy->scanpy[leiden]) (1.16.0)\n",
            "Requirement already satisfied: imageio>=2.4.1 in /usr/local/lib/python3.10/dist-packages (from scikit-image->scrublet) (2.31.6)\n",
            "Requirement already satisfied: tifffile>=2019.7.26 in /usr/local/lib/python3.10/dist-packages (from scikit-image->scrublet) (2024.7.2)\n",
            "Requirement already satisfied: PyWavelets>=1.1.1 in /usr/local/lib/python3.10/dist-packages (from scikit-image->scrublet) (1.6.0)\n",
            "Collecting stdlib_list (from session-info->scanpy[leiden])\n",
            "  Downloading stdlib_list-0.10.0-py3-none-any.whl (79 kB)\n",
            "\u001b[2K     \u001b[90m━━━━━━━━━━━━━━━━━━━━━━━━━━━━━━━━━━━━━━━━\u001b[0m \u001b[32m79.8/79.8 kB\u001b[0m \u001b[31m8.2 MB/s\u001b[0m eta \u001b[36m0:00:00\u001b[0m\n",
            "\u001b[?25hBuilding wheels for collected packages: annoy, session-info\n",
            "  Building wheel for annoy (setup.py) ... \u001b[?25l\u001b[?25hdone\n",
            "  Created wheel for annoy: filename=annoy-1.17.3-cp310-cp310-linux_x86_64.whl size=552446 sha256=b928ee26338414c758264be94cfa48c9fb68356e74e660594994f92e0746e0c3\n",
            "  Stored in directory: /root/.cache/pip/wheels/64/8a/da/f714bcf46c5efdcfcac0559e63370c21abe961c48e3992465a\n",
            "  Building wheel for session-info (setup.py) ... \u001b[?25l\u001b[?25hdone\n",
            "  Created wheel for session-info: filename=session_info-1.0.0-py3-none-any.whl size=8026 sha256=416d05ee793069c470495f87f6063130c9fe154d7b269486145e961176eac20c\n",
            "  Stored in directory: /root/.cache/pip/wheels/6a/aa/b9/eb5d4031476ec10802795b97ccf937b9bd998d68a9b268765a\n",
            "Successfully built annoy session-info\n",
            "Installing collected packages: texttable, array-api-compat, annoy, stdlib_list, legacy-api-wrap, igraph, session-info, leidenalg, pynndescent, anndata, umap-learn, scrublet, scanpy\n",
            "Successfully installed anndata-0.10.8 annoy-1.17.3 array-api-compat-1.7.1 igraph-0.11.6 legacy-api-wrap-1.4 leidenalg-0.10.2 pynndescent-0.5.13 scanpy-1.10.2 scrublet-0.2.3 session-info-1.0.0 stdlib_list-0.10.0 texttable-1.7.0 umap-learn-0.5.6\n",
            "Downloading...\n",
            "From: https://drive.google.com/uc?id=1Ctq4EmV2ps1dMiFcbqW467ywezRSGGN0&confirm=t\n",
            "To: /content/PBMC_10k.zip\n",
            "100% 345M/345M [00:03<00:00, 89.5MB/s]\n"
          ]
        }
      ]
    },
    {
      "cell_type": "code",
      "source": [
        "!wget https://datasets.cellxgene.cziscience.com/f8f41e86-e9ed-4de7-a155-836b2f243fd0.h5ad\n",
        "adata = sc.read_h5ad('f8f41e86-e9ed-4de7-a155-836b2f243fd0.h5ad.1')\n",
        "adata.var_names_make_unique()"
      ],
      "metadata": {
        "colab": {
          "base_uri": "https://localhost:8080/"
        },
        "id": "CQCwd9SAT1FK",
        "outputId": "90ee39fe-c7c0-4c1a-fad2-8b8321a868ad"
      },
      "execution_count": 4,
      "outputs": [
        {
          "output_type": "stream",
          "name": "stdout",
          "text": [
            "--2024-07-15 02:56:20--  https://datasets.cellxgene.cziscience.com/f8f41e86-e9ed-4de7-a155-836b2f243fd0.h5ad\n",
            "Resolving datasets.cellxgene.cziscience.com (datasets.cellxgene.cziscience.com)... 13.32.151.100, 13.32.151.108, 13.32.151.37, ...\n",
            "Connecting to datasets.cellxgene.cziscience.com (datasets.cellxgene.cziscience.com)|13.32.151.100|:443... connected.\n",
            "HTTP request sent, awaiting response... 200 OK\n",
            "Length: 362766772 (346M) [binary/octet-stream]\n",
            "Saving to: ‘f8f41e86-e9ed-4de7-a155-836b2f243fd0.h5ad.1’\n",
            "\n",
            "f8f41e86-e9ed-4de7- 100%[===================>] 345.96M   192MB/s    in 1.8s    \n",
            "\n",
            "2024-07-15 02:56:22 (192 MB/s) - ‘f8f41e86-e9ed-4de7-a155-836b2f243fd0.h5ad.1’ saved [362766772/362766772]\n",
            "\n"
          ]
        }
      ]
    },
    {
      "cell_type": "code",
      "source": [
        "import scanpy as sc\n",
        "import seaborn as sns\n",
        "import numpy as np\n",
        "\n",
        "sc.settings.verbosity = 3"
      ],
      "metadata": {
        "id": "9asRzv1yUQcF"
      },
      "execution_count": 5,
      "outputs": []
    },
    {
      "cell_type": "code",
      "source": [
        "print(adata.shape)\n",
        "adata\n",
        "print(adata.obs.cell_type)\n",
        "adata.var"
      ],
      "metadata": {
        "colab": {
          "base_uri": "https://localhost:8080/",
          "height": 707
        },
        "collapsed": true,
        "id": "9w-NAPrBUgh7",
        "outputId": "8acb08c3-12af-43f9-d0f0-a31ebf287250"
      },
      "execution_count": 6,
      "outputs": [
        {
          "output_type": "stream",
          "name": "stdout",
          "text": [
            "(66985, 36263)\n",
            "0002_AAACCCACAAGTCCCG-1                      CD4-positive, alpha-beta T cell\n",
            "0002_AAACCCAGTAGTCGTT-1    CD16-positive, CD56-dim natural killer cell, h...\n",
            "0002_AAACCCATCTACACAG-1                                       dendritic cell\n",
            "0002_AAACGAAAGAATTTGG-1                      CD4-positive, alpha-beta T cell\n",
            "0002_AAACGCTAGCGACTGA-1                               CD14-positive monocyte\n",
            "                                                 ...                        \n",
            "079_TTTGGAGTCAGAGTGG-1                                CD14-positive monocyte\n",
            "079_TTTGGAGTCGACATAC-1                                CD14-positive monocyte\n",
            "079_TTTGGTTAGGTTATAG-1     CD16-positive, CD56-dim natural killer cell, h...\n",
            "079_TTTGGTTCACACCAGC-1                                   natural killer cell\n",
            "079_TTTGTTGGTTGTTGCA-1                       CD4-positive, alpha-beta T cell\n",
            "Name: cell_type, Length: 66985, dtype: category\n",
            "Categories (9, object): ['platelet', 'B cell', 'dendritic cell', 'natural killer cell', ...,\n",
            "                         'CD8-positive, alpha-beta T cell', 'erythroid lineage cell',\n",
            "                         'CD16-positive, CD56-dim natural killer cell, ..., 'CD14-positive monocyte']\n"
          ]
        },
        {
          "output_type": "execute_result",
          "data": {
            "text/plain": [
              "                 feature_is_filtered       feature_name feature_reference  \\\n",
              "ENSG00000243485                False        MIR1302-2HG    NCBITaxon:9606   \n",
              "ENSG00000237613                False            FAM138A    NCBITaxon:9606   \n",
              "ENSG00000186092                False              OR4F5    NCBITaxon:9606   \n",
              "ENSG00000238009                False  ENSG00000238009.6    NCBITaxon:9606   \n",
              "ENSG00000239945                False  ENSG00000239945.1    NCBITaxon:9606   \n",
              "...                              ...                ...               ...   \n",
              "ENSG00000277836                False  ENSG00000277836.1    NCBITaxon:9606   \n",
              "ENSG00000278633                False  ENSG00000278633.1    NCBITaxon:9606   \n",
              "ENSG00000276017                False  ENSG00000276017.1    NCBITaxon:9606   \n",
              "ENSG00000278817                False  ENSG00000278817.1    NCBITaxon:9606   \n",
              "ENSG00000277196                False  ENSG00000277196.4    NCBITaxon:9606   \n",
              "\n",
              "                feature_biotype feature_length  \n",
              "ENSG00000243485            gene           1021  \n",
              "ENSG00000237613            gene           1219  \n",
              "ENSG00000186092            gene           2618  \n",
              "ENSG00000238009            gene           3726  \n",
              "ENSG00000239945            gene           1319  \n",
              "...                         ...            ...  \n",
              "ENSG00000277836            gene            288  \n",
              "ENSG00000278633            gene           2404  \n",
              "ENSG00000276017            gene           2404  \n",
              "ENSG00000278817            gene           1213  \n",
              "ENSG00000277196            gene           2405  \n",
              "\n",
              "[36263 rows x 5 columns]"
            ],
            "text/html": [
              "\n",
              "  <div id=\"df-66f98e7b-5333-4a14-8269-964bf90e2a1e\" class=\"colab-df-container\">\n",
              "    <div>\n",
              "<style scoped>\n",
              "    .dataframe tbody tr th:only-of-type {\n",
              "        vertical-align: middle;\n",
              "    }\n",
              "\n",
              "    .dataframe tbody tr th {\n",
              "        vertical-align: top;\n",
              "    }\n",
              "\n",
              "    .dataframe thead th {\n",
              "        text-align: right;\n",
              "    }\n",
              "</style>\n",
              "<table border=\"1\" class=\"dataframe\">\n",
              "  <thead>\n",
              "    <tr style=\"text-align: right;\">\n",
              "      <th></th>\n",
              "      <th>feature_is_filtered</th>\n",
              "      <th>feature_name</th>\n",
              "      <th>feature_reference</th>\n",
              "      <th>feature_biotype</th>\n",
              "      <th>feature_length</th>\n",
              "    </tr>\n",
              "  </thead>\n",
              "  <tbody>\n",
              "    <tr>\n",
              "      <th>ENSG00000243485</th>\n",
              "      <td>False</td>\n",
              "      <td>MIR1302-2HG</td>\n",
              "      <td>NCBITaxon:9606</td>\n",
              "      <td>gene</td>\n",
              "      <td>1021</td>\n",
              "    </tr>\n",
              "    <tr>\n",
              "      <th>ENSG00000237613</th>\n",
              "      <td>False</td>\n",
              "      <td>FAM138A</td>\n",
              "      <td>NCBITaxon:9606</td>\n",
              "      <td>gene</td>\n",
              "      <td>1219</td>\n",
              "    </tr>\n",
              "    <tr>\n",
              "      <th>ENSG00000186092</th>\n",
              "      <td>False</td>\n",
              "      <td>OR4F5</td>\n",
              "      <td>NCBITaxon:9606</td>\n",
              "      <td>gene</td>\n",
              "      <td>2618</td>\n",
              "    </tr>\n",
              "    <tr>\n",
              "      <th>ENSG00000238009</th>\n",
              "      <td>False</td>\n",
              "      <td>ENSG00000238009.6</td>\n",
              "      <td>NCBITaxon:9606</td>\n",
              "      <td>gene</td>\n",
              "      <td>3726</td>\n",
              "    </tr>\n",
              "    <tr>\n",
              "      <th>ENSG00000239945</th>\n",
              "      <td>False</td>\n",
              "      <td>ENSG00000239945.1</td>\n",
              "      <td>NCBITaxon:9606</td>\n",
              "      <td>gene</td>\n",
              "      <td>1319</td>\n",
              "    </tr>\n",
              "    <tr>\n",
              "      <th>...</th>\n",
              "      <td>...</td>\n",
              "      <td>...</td>\n",
              "      <td>...</td>\n",
              "      <td>...</td>\n",
              "      <td>...</td>\n",
              "    </tr>\n",
              "    <tr>\n",
              "      <th>ENSG00000277836</th>\n",
              "      <td>False</td>\n",
              "      <td>ENSG00000277836.1</td>\n",
              "      <td>NCBITaxon:9606</td>\n",
              "      <td>gene</td>\n",
              "      <td>288</td>\n",
              "    </tr>\n",
              "    <tr>\n",
              "      <th>ENSG00000278633</th>\n",
              "      <td>False</td>\n",
              "      <td>ENSG00000278633.1</td>\n",
              "      <td>NCBITaxon:9606</td>\n",
              "      <td>gene</td>\n",
              "      <td>2404</td>\n",
              "    </tr>\n",
              "    <tr>\n",
              "      <th>ENSG00000276017</th>\n",
              "      <td>False</td>\n",
              "      <td>ENSG00000276017.1</td>\n",
              "      <td>NCBITaxon:9606</td>\n",
              "      <td>gene</td>\n",
              "      <td>2404</td>\n",
              "    </tr>\n",
              "    <tr>\n",
              "      <th>ENSG00000278817</th>\n",
              "      <td>False</td>\n",
              "      <td>ENSG00000278817.1</td>\n",
              "      <td>NCBITaxon:9606</td>\n",
              "      <td>gene</td>\n",
              "      <td>1213</td>\n",
              "    </tr>\n",
              "    <tr>\n",
              "      <th>ENSG00000277196</th>\n",
              "      <td>False</td>\n",
              "      <td>ENSG00000277196.4</td>\n",
              "      <td>NCBITaxon:9606</td>\n",
              "      <td>gene</td>\n",
              "      <td>2405</td>\n",
              "    </tr>\n",
              "  </tbody>\n",
              "</table>\n",
              "<p>36263 rows × 5 columns</p>\n",
              "</div>\n",
              "    <div class=\"colab-df-buttons\">\n",
              "\n",
              "  <div class=\"colab-df-container\">\n",
              "    <button class=\"colab-df-convert\" onclick=\"convertToInteractive('df-66f98e7b-5333-4a14-8269-964bf90e2a1e')\"\n",
              "            title=\"Convert this dataframe to an interactive table.\"\n",
              "            style=\"display:none;\">\n",
              "\n",
              "  <svg xmlns=\"http://www.w3.org/2000/svg\" height=\"24px\" viewBox=\"0 -960 960 960\">\n",
              "    <path d=\"M120-120v-720h720v720H120Zm60-500h600v-160H180v160Zm220 220h160v-160H400v160Zm0 220h160v-160H400v160ZM180-400h160v-160H180v160Zm440 0h160v-160H620v160ZM180-180h160v-160H180v160Zm440 0h160v-160H620v160Z\"/>\n",
              "  </svg>\n",
              "    </button>\n",
              "\n",
              "  <style>\n",
              "    .colab-df-container {\n",
              "      display:flex;\n",
              "      gap: 12px;\n",
              "    }\n",
              "\n",
              "    .colab-df-convert {\n",
              "      background-color: #E8F0FE;\n",
              "      border: none;\n",
              "      border-radius: 50%;\n",
              "      cursor: pointer;\n",
              "      display: none;\n",
              "      fill: #1967D2;\n",
              "      height: 32px;\n",
              "      padding: 0 0 0 0;\n",
              "      width: 32px;\n",
              "    }\n",
              "\n",
              "    .colab-df-convert:hover {\n",
              "      background-color: #E2EBFA;\n",
              "      box-shadow: 0px 1px 2px rgba(60, 64, 67, 0.3), 0px 1px 3px 1px rgba(60, 64, 67, 0.15);\n",
              "      fill: #174EA6;\n",
              "    }\n",
              "\n",
              "    .colab-df-buttons div {\n",
              "      margin-bottom: 4px;\n",
              "    }\n",
              "\n",
              "    [theme=dark] .colab-df-convert {\n",
              "      background-color: #3B4455;\n",
              "      fill: #D2E3FC;\n",
              "    }\n",
              "\n",
              "    [theme=dark] .colab-df-convert:hover {\n",
              "      background-color: #434B5C;\n",
              "      box-shadow: 0px 1px 3px 1px rgba(0, 0, 0, 0.15);\n",
              "      filter: drop-shadow(0px 1px 2px rgba(0, 0, 0, 0.3));\n",
              "      fill: #FFFFFF;\n",
              "    }\n",
              "  </style>\n",
              "\n",
              "    <script>\n",
              "      const buttonEl =\n",
              "        document.querySelector('#df-66f98e7b-5333-4a14-8269-964bf90e2a1e button.colab-df-convert');\n",
              "      buttonEl.style.display =\n",
              "        google.colab.kernel.accessAllowed ? 'block' : 'none';\n",
              "\n",
              "      async function convertToInteractive(key) {\n",
              "        const element = document.querySelector('#df-66f98e7b-5333-4a14-8269-964bf90e2a1e');\n",
              "        const dataTable =\n",
              "          await google.colab.kernel.invokeFunction('convertToInteractive',\n",
              "                                                    [key], {});\n",
              "        if (!dataTable) return;\n",
              "\n",
              "        const docLinkHtml = 'Like what you see? Visit the ' +\n",
              "          '<a target=\"_blank\" href=https://colab.research.google.com/notebooks/data_table.ipynb>data table notebook</a>'\n",
              "          + ' to learn more about interactive tables.';\n",
              "        element.innerHTML = '';\n",
              "        dataTable['output_type'] = 'display_data';\n",
              "        await google.colab.output.renderOutput(dataTable, element);\n",
              "        const docLink = document.createElement('div');\n",
              "        docLink.innerHTML = docLinkHtml;\n",
              "        element.appendChild(docLink);\n",
              "      }\n",
              "    </script>\n",
              "  </div>\n",
              "\n",
              "\n",
              "<div id=\"df-9d2e60d9-4775-49a7-add3-9a72da6d8e20\">\n",
              "  <button class=\"colab-df-quickchart\" onclick=\"quickchart('df-9d2e60d9-4775-49a7-add3-9a72da6d8e20')\"\n",
              "            title=\"Suggest charts\"\n",
              "            style=\"display:none;\">\n",
              "\n",
              "<svg xmlns=\"http://www.w3.org/2000/svg\" height=\"24px\"viewBox=\"0 0 24 24\"\n",
              "     width=\"24px\">\n",
              "    <g>\n",
              "        <path d=\"M19 3H5c-1.1 0-2 .9-2 2v14c0 1.1.9 2 2 2h14c1.1 0 2-.9 2-2V5c0-1.1-.9-2-2-2zM9 17H7v-7h2v7zm4 0h-2V7h2v10zm4 0h-2v-4h2v4z\"/>\n",
              "    </g>\n",
              "</svg>\n",
              "  </button>\n",
              "\n",
              "<style>\n",
              "  .colab-df-quickchart {\n",
              "      --bg-color: #E8F0FE;\n",
              "      --fill-color: #1967D2;\n",
              "      --hover-bg-color: #E2EBFA;\n",
              "      --hover-fill-color: #174EA6;\n",
              "      --disabled-fill-color: #AAA;\n",
              "      --disabled-bg-color: #DDD;\n",
              "  }\n",
              "\n",
              "  [theme=dark] .colab-df-quickchart {\n",
              "      --bg-color: #3B4455;\n",
              "      --fill-color: #D2E3FC;\n",
              "      --hover-bg-color: #434B5C;\n",
              "      --hover-fill-color: #FFFFFF;\n",
              "      --disabled-bg-color: #3B4455;\n",
              "      --disabled-fill-color: #666;\n",
              "  }\n",
              "\n",
              "  .colab-df-quickchart {\n",
              "    background-color: var(--bg-color);\n",
              "    border: none;\n",
              "    border-radius: 50%;\n",
              "    cursor: pointer;\n",
              "    display: none;\n",
              "    fill: var(--fill-color);\n",
              "    height: 32px;\n",
              "    padding: 0;\n",
              "    width: 32px;\n",
              "  }\n",
              "\n",
              "  .colab-df-quickchart:hover {\n",
              "    background-color: var(--hover-bg-color);\n",
              "    box-shadow: 0 1px 2px rgba(60, 64, 67, 0.3), 0 1px 3px 1px rgba(60, 64, 67, 0.15);\n",
              "    fill: var(--button-hover-fill-color);\n",
              "  }\n",
              "\n",
              "  .colab-df-quickchart-complete:disabled,\n",
              "  .colab-df-quickchart-complete:disabled:hover {\n",
              "    background-color: var(--disabled-bg-color);\n",
              "    fill: var(--disabled-fill-color);\n",
              "    box-shadow: none;\n",
              "  }\n",
              "\n",
              "  .colab-df-spinner {\n",
              "    border: 2px solid var(--fill-color);\n",
              "    border-color: transparent;\n",
              "    border-bottom-color: var(--fill-color);\n",
              "    animation:\n",
              "      spin 1s steps(1) infinite;\n",
              "  }\n",
              "\n",
              "  @keyframes spin {\n",
              "    0% {\n",
              "      border-color: transparent;\n",
              "      border-bottom-color: var(--fill-color);\n",
              "      border-left-color: var(--fill-color);\n",
              "    }\n",
              "    20% {\n",
              "      border-color: transparent;\n",
              "      border-left-color: var(--fill-color);\n",
              "      border-top-color: var(--fill-color);\n",
              "    }\n",
              "    30% {\n",
              "      border-color: transparent;\n",
              "      border-left-color: var(--fill-color);\n",
              "      border-top-color: var(--fill-color);\n",
              "      border-right-color: var(--fill-color);\n",
              "    }\n",
              "    40% {\n",
              "      border-color: transparent;\n",
              "      border-right-color: var(--fill-color);\n",
              "      border-top-color: var(--fill-color);\n",
              "    }\n",
              "    60% {\n",
              "      border-color: transparent;\n",
              "      border-right-color: var(--fill-color);\n",
              "    }\n",
              "    80% {\n",
              "      border-color: transparent;\n",
              "      border-right-color: var(--fill-color);\n",
              "      border-bottom-color: var(--fill-color);\n",
              "    }\n",
              "    90% {\n",
              "      border-color: transparent;\n",
              "      border-bottom-color: var(--fill-color);\n",
              "    }\n",
              "  }\n",
              "</style>\n",
              "\n",
              "  <script>\n",
              "    async function quickchart(key) {\n",
              "      const quickchartButtonEl =\n",
              "        document.querySelector('#' + key + ' button');\n",
              "      quickchartButtonEl.disabled = true;  // To prevent multiple clicks.\n",
              "      quickchartButtonEl.classList.add('colab-df-spinner');\n",
              "      try {\n",
              "        const charts = await google.colab.kernel.invokeFunction(\n",
              "            'suggestCharts', [key], {});\n",
              "      } catch (error) {\n",
              "        console.error('Error during call to suggestCharts:', error);\n",
              "      }\n",
              "      quickchartButtonEl.classList.remove('colab-df-spinner');\n",
              "      quickchartButtonEl.classList.add('colab-df-quickchart-complete');\n",
              "    }\n",
              "    (() => {\n",
              "      let quickchartButtonEl =\n",
              "        document.querySelector('#df-9d2e60d9-4775-49a7-add3-9a72da6d8e20 button');\n",
              "      quickchartButtonEl.style.display =\n",
              "        google.colab.kernel.accessAllowed ? 'block' : 'none';\n",
              "    })();\n",
              "  </script>\n",
              "</div>\n",
              "    </div>\n",
              "  </div>\n"
            ],
            "application/vnd.google.colaboratory.intrinsic+json": {
              "type": "dataframe",
              "summary": "{\n  \"name\": \"adata\",\n  \"rows\": 36263,\n  \"fields\": [\n    {\n      \"column\": \"feature_is_filtered\",\n      \"properties\": {\n        \"dtype\": \"boolean\",\n        \"num_unique_values\": 1,\n        \"samples\": [\n          false\n        ],\n        \"semantic_type\": \"\",\n        \"description\": \"\"\n      }\n    },\n    {\n      \"column\": \"feature_name\",\n      \"properties\": {\n        \"dtype\": \"category\",\n        \"num_unique_values\": 36263,\n        \"samples\": [\n          \"GLIS3-AS1\"\n        ],\n        \"semantic_type\": \"\",\n        \"description\": \"\"\n      }\n    },\n    {\n      \"column\": \"feature_reference\",\n      \"properties\": {\n        \"dtype\": \"category\",\n        \"num_unique_values\": 1,\n        \"samples\": [\n          \"NCBITaxon:9606\"\n        ],\n        \"semantic_type\": \"\",\n        \"description\": \"\"\n      }\n    },\n    {\n      \"column\": \"feature_biotype\",\n      \"properties\": {\n        \"dtype\": \"category\",\n        \"num_unique_values\": 1,\n        \"samples\": [\n          \"gene\"\n        ],\n        \"semantic_type\": \"\",\n        \"description\": \"\"\n      }\n    },\n    {\n      \"column\": \"feature_length\",\n      \"properties\": {\n        \"dtype\": \"category\",\n        \"num_unique_values\": 10842,\n        \"samples\": [\n          14185\n        ],\n        \"semantic_type\": \"\",\n        \"description\": \"\"\n      }\n    }\n  ]\n}"
            }
          },
          "metadata": {},
          "execution_count": 6
        }
      ]
    },
    {
      "cell_type": "code",
      "source": [
        "print(adata[adata.obs.cell_type == 'B cell'].shape)"
      ],
      "metadata": {
        "colab": {
          "base_uri": "https://localhost:8080/"
        },
        "id": "RgQ3b9nvUrpF",
        "outputId": "49187674-18c3-4def-c759-fedfb4fccac6"
      },
      "execution_count": 7,
      "outputs": [
        {
          "output_type": "stream",
          "name": "stdout",
          "text": [
            "(3540, 36263)\n"
          ]
        }
      ]
    },
    {
      "cell_type": "code",
      "source": [
        "adata = adata[adata.obs.cell_type == 'platelet']\n",
        "adata.shape"
      ],
      "metadata": {
        "colab": {
          "base_uri": "https://localhost:8080/"
        },
        "id": "a1kQutezUrPo",
        "outputId": "8f4c4438-a2ba-4cbe-f5db-c0b7192e6d6a"
      },
      "execution_count": 8,
      "outputs": [
        {
          "output_type": "execute_result",
          "data": {
            "text/plain": [
              "(505, 36263)"
            ]
          },
          "metadata": {},
          "execution_count": 8
        }
      ]
    },
    {
      "cell_type": "code",
      "source": [
        "sc.pp.calculate_qc_metrics(\n",
        "    adata,\n",
        "    inplace=True,\n",
        "    log1p=False,\n",
        "    percent_top=None,\n",
        ")"
      ],
      "metadata": {
        "colab": {
          "base_uri": "https://localhost:8080/"
        },
        "id": "e2xio5XpUyKL",
        "outputId": "9721f6d0-cac3-4b3c-b3ad-092dbe1cc299"
      },
      "execution_count": 9,
      "outputs": [
        {
          "output_type": "stream",
          "name": "stderr",
          "text": [
            "/usr/local/lib/python3.10/dist-packages/scanpy/preprocessing/_qc.py:141: ImplicitModificationWarning: Trying to modify attribute `.obs` of view, initializing view as actual.\n",
            "  adata.obs[obs_metrics.columns] = obs_metrics\n"
          ]
        }
      ]
    },
    {
      "cell_type": "code",
      "source": [
        "import matplotlib.pyplot as plt\n",
        "adata1 = adata[adata.obs.cell_type == 'platelet']\n",
        "fig, axes = plt.subplots(ncols=2, nrows=1, figsize=(8, 6))\n",
        "sns.histplot(adata1.obs.total_counts, ax=axes[0], bins=100)\n",
        "sns.histplot(adata1.obs.n_genes_by_counts, ax=axes[1], bins=100)\n",
        "plt.suptitle(f\"total number of cells: {len(adata1)}\")\n",
        "fig.tight_layout()"
      ],
      "metadata": {
        "colab": {
          "base_uri": "https://localhost:8080/",
          "height": 609
        },
        "id": "ggBYuFdBU4dZ",
        "outputId": "c66b016d-4feb-4845-f03c-070d46775280"
      },
      "execution_count": 10,
      "outputs": [
        {
          "output_type": "display_data",
          "data": {
            "text/plain": [
              "<Figure size 800x600 with 2 Axes>"
            ],
            "image/png": "[encoded data removed]"
          },
          "metadata": {}
        }
      ]
    },
    {
      "cell_type": "code",
      "source": [
        "sc.pp.scrublet(adata1)\n",
        "print(adata1)"
      ],
      "metadata": {
        "colab": {
          "base_uri": "https://localhost:8080/"
        },
        "id": "soPMYBBSVCAn",
        "outputId": "34ae9fd1-0580-4116-9c60-ea2e6575d48b"
      },
      "execution_count": 11,
      "outputs": [
        {
          "output_type": "stream",
          "name": "stdout",
          "text": [
            "Running Scrublet\n",
            "filtered out 26011 genes that are detected in less than 3 cells\n",
            "normalizing counts per cell\n",
            "    finished (0:00:00)\n",
            "extracting highly variable genes\n",
            "    finished (0:00:10)\n",
            "--> added\n",
            "    'highly_variable', boolean vector (adata.var)\n",
            "    'means', float vector (adata.var)\n",
            "    'dispersions', float vector (adata.var)\n",
            "    'dispersions_norm', float vector (adata.var)\n",
            "normalizing counts per cell\n",
            "    finished (0:00:00)\n",
            "normalizing counts per cell\n",
            "    finished (0:00:00)\n",
            "Embedding transcriptomes using PCA...\n",
            "    using data matrix X directly\n",
            "Automatically set threshold at doublet score = 0.26\n",
            "Detected doublet rate = 0.0%\n",
            "Estimated detectable doublet fraction = 2.5%\n",
            "Overall doublet rate:\n",
            "\tExpected   = 5.0%\n",
            "\tEstimated  = 0.0%\n",
            "    Scrublet finished (0:00:15)\n",
            "AnnData object with n_obs × n_vars = 505 × 36263\n",
            "    obs: 'nCount_RNA', 'nFeature_RNA', 'nCount_HTO', 'nFeature_HTO', 'HTO_maxID', 'HTO_secondID', 'HTO_margin', 'HTO_classification.global', 'sample', 'donor_id', 'CHIP', 'LANE', 'ProjectID', 'MUTATION', 'MUTATION.GROUP', 'sex_ontology_term_id', 'HTOID', 'percent.mt', 'nCount_SCT', 'nFeature_SCT', 'scType_celltype', 'pANN', 'development_stage_ontology_term_id', 'cell_type_ontology_term_id', 'self_reported_ethnicity_ontology_term_id', 'assay_ontology_term_id', 'suspension_type', 'is_primary_data', 'tissue_type', 'tissue_ontology_term_id', 'organism_ontology_term_id', 'disease_ontology_term_id', 'cell_type', 'assay', 'disease', 'organism', 'sex', 'tissue', 'self_reported_ethnicity', 'development_stage', 'observation_joinid', 'n_genes_by_counts', 'total_counts', 'doublet_score', 'predicted_doublet'\n",
            "    var: 'feature_is_filtered', 'feature_name', 'feature_reference', 'feature_biotype', 'feature_length', 'n_cells_by_counts', 'mean_counts', 'pct_dropout_by_counts', 'total_counts'\n",
            "    uns: 'citation', 'default_embedding', 'schema_reference', 'schema_version', 'title', 'scrublet'\n",
            "    obsm: 'X_umap'\n"
          ]
        },
        {
          "output_type": "stream",
          "name": "stderr",
          "text": [
            "/usr/local/lib/python3.10/dist-packages/scanpy/preprocessing/_scrublet/__init__.py:289: ImplicitModificationWarning: Trying to modify attribute `.obs` of view, initializing view as actual.\n",
            "  adata.obs[\"doublet_score\"] = scrubbed[\"obs\"][\"doublet_score\"]\n"
          ]
        }
      ]
    },
    {
      "cell_type": "code",
      "source": [
        "adata1 = adata[adata.obs.cell_type == 'platelet']\n",
        "fig, axes = plt.subplots(ncols=2, nrows=1, figsize=(8, 6))\n",
        "sns.histplot(adata1.obs.total_counts, ax=axes[0], bins=100)\n",
        "sns.histplot(adata1.obs.n_genes_by_counts, ax=axes[1], bins=100)\n",
        "plt.suptitle(f\"total number of cells: {len(adata1)}\")\n",
        "fig.tight_layout()"
      ],
      "metadata": {
        "colab": {
          "base_uri": "https://localhost:8080/",
          "height": 609
        },
        "id": "9cpHH2pnVKGC",
        "outputId": "6250c394-78b4-4c20-eb58-4d033f0b2f36"
      },
      "execution_count": 13,
      "outputs": [
        {
          "output_type": "display_data",
          "data": {
            "text/plain": [
              "<Figure size 800x600 with 2 Axes>"
            ],
            "image/png": "[encoded data removed]"
          },
          "metadata": {}
        }
      ]
    },
    {
      "cell_type": "code",
      "source": [
        "sc.pl.embedding(adata1, basis=\"X_umap\")"
      ],
      "metadata": {
        "colab": {
          "base_uri": "https://localhost:8080/",
          "height": 426
        },
        "id": "1nDpBOliVN_r",
        "outputId": "8140911e-45f9-49d8-82d7-1c8b9441f645"
      },
      "execution_count": 14,
      "outputs": [
        {
          "output_type": "display_data",
          "data": {
            "text/plain": [
              "<Figure size 640x480 with 1 Axes>"
            ],
            "image/png": "[encoded data removed]"
          },
          "metadata": {}
        }
      ]
    },
    {
      "cell_type": "code",
      "source": [
        "counts_per_cell = adata1.X.sum(axis=1).A.T[0]\n",
        "sns.histplot(counts_per_cell)"
      ],
      "metadata": {
        "colab": {
          "base_uri": "https://localhost:8080/",
          "height": 448
        },
        "id": "uJQIvL_VVUsw",
        "outputId": "e11847f8-6289-4a3b-bc95-1f347b27150e"
      },
      "execution_count": 15,
      "outputs": [
        {
          "output_type": "execute_result",
          "data": {
            "text/plain": [
              "<Axes: ylabel='Count'>"
            ]
          },
          "metadata": {},
          "execution_count": 15
        },
        {
          "output_type": "display_data",
          "data": {
            "text/plain": [
              "<Figure size 640x480 with 1 Axes>"
            ],
            "image/png": "[encoded data removed]"
          },
          "metadata": {}
        }
      ]
    }
  ]
}