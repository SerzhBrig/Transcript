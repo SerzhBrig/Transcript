{
  "nbformat": 4,
  "nbformat_minor": 0,
  "metadata": {
    "colab": {
      "provenance": []
    },
    "kernelspec": {
      "name": "python3",
      "display_name": "Python 3"
    },
    "language_info": {
      "name": "python"
    }
  },
  "cells": [
    {
      "cell_type": "markdown",
      "source": [
        "задание 1"
      ],
      "metadata": {
        "id": "cVMHqFaagTit"
      }
    },
    {
      "cell_type": "code",
      "execution_count": 1,
      "metadata": {
        "id": "SdfN6blrbkX3",
        "colab": {
          "base_uri": "https://localhost:8080/"
        },
        "outputId": "6b3e1d36-f1be-4361-bc42-4db2464707a7"
      },
      "outputs": [
        {
          "output_type": "stream",
          "name": "stdout",
          "text": [
            "Collecting scanpy[leiden]\n",
            "  Downloading scanpy-1.10.2-py3-none-any.whl (2.1 MB)\n",
            "\u001b[2K     \u001b[90m━━━━━━━━━━━━━━━━━━━━━━━━━━━━━━━━━━━━━━━━\u001b[0m \u001b[32m2.1/2.1 MB\u001b[0m \u001b[31m6.8 MB/s\u001b[0m eta \u001b[36m0:00:00\u001b[0m\n",
            "\u001b[?25hCollecting harmonypy\n",
            "  Downloading harmonypy-0.0.10-py3-none-any.whl (20 kB)\n",
            "Collecting symphonypy\n",
            "  Downloading symphonypy-0.2.1-py3-none-any.whl (27 kB)\n",
            "Collecting anndata>=0.8 (from scanpy[leiden])\n",
            "  Downloading anndata-0.10.8-py3-none-any.whl (124 kB)\n",
            "\u001b[2K     \u001b[90m━━━━━━━━━━━━━━━━━━━━━━━━━━━━━━━━━━━━━━━━\u001b[0m \u001b[32m124.4/124.4 kB\u001b[0m \u001b[31m6.5 MB/s\u001b[0m eta \u001b[36m0:00:00\u001b[0m\n",
            "\u001b[?25hRequirement already satisfied: h5py>=3.1 in /usr/local/lib/python3.10/dist-packages (from scanpy[leiden]) (3.9.0)\n",
            "Requirement already satisfied: joblib in /usr/local/lib/python3.10/dist-packages (from scanpy[leiden]) (1.4.2)\n",
            "Collecting legacy-api-wrap>=1.4 (from scanpy[leiden])\n",
            "  Downloading legacy_api_wrap-1.4-py3-none-any.whl (15 kB)\n",
            "Requirement already satisfied: matplotlib>=3.6 in /usr/local/lib/python3.10/dist-packages (from scanpy[leiden]) (3.7.1)\n",
            "Requirement already satisfied: natsort in /usr/local/lib/python3.10/dist-packages (from scanpy[leiden]) (8.4.0)\n",
            "Requirement already satisfied: networkx>=2.7 in /usr/local/lib/python3.10/dist-packages (from scanpy[leiden]) (3.3)\n",
            "Requirement already satisfied: numba>=0.56 in /usr/local/lib/python3.10/dist-packages (from scanpy[leiden]) (0.58.1)\n",
            "Requirement already satisfied: numpy<2,>=1.23 in /usr/local/lib/python3.10/dist-packages (from scanpy[leiden]) (1.25.2)\n",
            "Requirement already satisfied: packaging>=21.3 in /usr/local/lib/python3.10/dist-packages (from scanpy[leiden]) (24.1)\n",
            "Requirement already satisfied: pandas>=1.5 in /usr/local/lib/python3.10/dist-packages (from scanpy[leiden]) (2.0.3)\n",
            "Requirement already satisfied: patsy in /usr/local/lib/python3.10/dist-packages (from scanpy[leiden]) (0.5.6)\n",
            "Collecting pynndescent>=0.5 (from scanpy[leiden])\n",
            "  Downloading pynndescent-0.5.13-py3-none-any.whl (56 kB)\n",
            "\u001b[2K     \u001b[90m━━━━━━━━━━━━━━━━━━━━━━━━━━━━━━━━━━━━━━━━\u001b[0m \u001b[32m56.9/56.9 kB\u001b[0m \u001b[31m4.2 MB/s\u001b[0m eta \u001b[36m0:00:00\u001b[0m\n",
            "\u001b[?25hRequirement already satisfied: scikit-learn>=0.24 in /usr/local/lib/python3.10/dist-packages (from scanpy[leiden]) (1.2.2)\n",
            "Requirement already satisfied: scipy>=1.8 in /usr/local/lib/python3.10/dist-packages (from scanpy[leiden]) (1.11.4)\n",
            "Requirement already satisfied: seaborn>=0.13 in /usr/local/lib/python3.10/dist-packages (from scanpy[leiden]) (0.13.1)\n",
            "Collecting session-info (from scanpy[leiden])\n",
            "  Downloading session_info-1.0.0.tar.gz (24 kB)\n",
            "  Preparing metadata (setup.py) ... \u001b[?25l\u001b[?25hdone\n",
            "Requirement already satisfied: statsmodels>=0.13 in /usr/local/lib/python3.10/dist-packages (from scanpy[leiden]) (0.14.2)\n",
            "Requirement already satisfied: tqdm in /usr/local/lib/python3.10/dist-packages (from scanpy[leiden]) (4.66.4)\n",
            "Collecting umap-learn!=0.5.0,>=0.5 (from scanpy[leiden])\n",
            "  Downloading umap_learn-0.5.6-py3-none-any.whl (85 kB)\n",
            "\u001b[2K     \u001b[90m━━━━━━━━━━━━━━━━━━━━━━━━━━━━━━━━━━━━━━━━\u001b[0m \u001b[32m85.7/85.7 kB\u001b[0m \u001b[31m7.4 MB/s\u001b[0m eta \u001b[36m0:00:00\u001b[0m\n",
            "\u001b[?25hCollecting igraph>=0.10 (from scanpy[leiden])\n",
            "  Downloading igraph-0.11.6-cp39-abi3-manylinux_2_17_x86_64.manylinux2014_x86_64.whl (3.1 MB)\n",
            "\u001b[2K     \u001b[90m━━━━━━━━━━━━━━━━━━━━━━━━━━━━━━━━━━━━━━━━\u001b[0m \u001b[32m3.1/3.1 MB\u001b[0m \u001b[31m12.0 MB/s\u001b[0m eta \u001b[36m0:00:00\u001b[0m\n",
            "\u001b[?25hCollecting leidenalg>=0.9.0 (from scanpy[leiden])\n",
            "  Downloading leidenalg-0.10.2-cp38-abi3-manylinux_2_17_x86_64.manylinux2014_x86_64.whl (2.0 MB)\n",
            "\u001b[2K     \u001b[90m━━━━━━━━━━━━━━━━━━━━━━━━━━━━━━━━━━━━━━━━\u001b[0m \u001b[32m2.0/2.0 MB\u001b[0m \u001b[31m16.4 MB/s\u001b[0m eta \u001b[36m0:00:00\u001b[0m\n",
            "\u001b[?25hCollecting array-api-compat!=1.5,>1.4 (from anndata>=0.8->scanpy[leiden])\n",
            "  Downloading array_api_compat-1.7.1-py3-none-any.whl (37 kB)\n",
            "Requirement already satisfied: exceptiongroup in /usr/local/lib/python3.10/dist-packages (from anndata>=0.8->scanpy[leiden]) (1.2.1)\n",
            "Collecting texttable>=1.6.2 (from igraph>=0.10->scanpy[leiden])\n",
            "  Downloading texttable-1.7.0-py2.py3-none-any.whl (10 kB)\n",
            "Requirement already satisfied: contourpy>=1.0.1 in /usr/local/lib/python3.10/dist-packages (from matplotlib>=3.6->scanpy[leiden]) (1.2.1)\n",
            "Requirement already satisfied: cycler>=0.10 in /usr/local/lib/python3.10/dist-packages (from matplotlib>=3.6->scanpy[leiden]) (0.12.1)\n",
            "Requirement already satisfied: fonttools>=4.22.0 in /usr/local/lib/python3.10/dist-packages (from matplotlib>=3.6->scanpy[leiden]) (4.53.1)\n",
            "Requirement already satisfied: kiwisolver>=1.0.1 in /usr/local/lib/python3.10/dist-packages (from matplotlib>=3.6->scanpy[leiden]) (1.4.5)\n",
            "Requirement already satisfied: pillow>=6.2.0 in /usr/local/lib/python3.10/dist-packages (from matplotlib>=3.6->scanpy[leiden]) (9.4.0)\n",
            "Requirement already satisfied: pyparsing>=2.3.1 in /usr/local/lib/python3.10/dist-packages (from matplotlib>=3.6->scanpy[leiden]) (3.1.2)\n",
            "Requirement already satisfied: python-dateutil>=2.7 in /usr/local/lib/python3.10/dist-packages (from matplotlib>=3.6->scanpy[leiden]) (2.8.2)\n",
            "Requirement already satisfied: llvmlite<0.42,>=0.41.0dev0 in /usr/local/lib/python3.10/dist-packages (from numba>=0.56->scanpy[leiden]) (0.41.1)\n",
            "Requirement already satisfied: pytz>=2020.1 in /usr/local/lib/python3.10/dist-packages (from pandas>=1.5->scanpy[leiden]) (2023.4)\n",
            "Requirement already satisfied: tzdata>=2022.1 in /usr/local/lib/python3.10/dist-packages (from pandas>=1.5->scanpy[leiden]) (2024.1)\n",
            "Requirement already satisfied: threadpoolctl>=2.0.0 in /usr/local/lib/python3.10/dist-packages (from scikit-learn>=0.24->scanpy[leiden]) (3.5.0)\n",
            "Requirement already satisfied: six in /usr/local/lib/python3.10/dist-packages (from patsy->scanpy[leiden]) (1.16.0)\n",
            "Collecting stdlib_list (from session-info->scanpy[leiden])\n",
            "  Downloading stdlib_list-0.10.0-py3-none-any.whl (79 kB)\n",
            "\u001b[2K     \u001b[90m━━━━━━━━━━━━━━━━━━━━━━━━━━━━━━━━━━━━━━━━\u001b[0m \u001b[32m79.8/79.8 kB\u001b[0m \u001b[31m4.4 MB/s\u001b[0m eta \u001b[36m0:00:00\u001b[0m\n",
            "\u001b[?25hBuilding wheels for collected packages: session-info\n",
            "  Building wheel for session-info (setup.py) ... \u001b[?25l\u001b[?25hdone\n",
            "  Created wheel for session-info: filename=session_info-1.0.0-py3-none-any.whl size=8026 sha256=803ed581132e1fe2075c106de5584436cb3dc7a8ed11d2154db2850a77e4b84d\n",
            "  Stored in directory: /root/.cache/pip/wheels/6a/aa/b9/eb5d4031476ec10802795b97ccf937b9bd998d68a9b268765a\n",
            "Successfully built session-info\n",
            "Installing collected packages: texttable, array-api-compat, stdlib_list, legacy-api-wrap, igraph, session-info, leidenalg, pynndescent, harmonypy, anndata, umap-learn, scanpy, symphonypy\n",
            "Successfully installed anndata-0.10.8 array-api-compat-1.7.1 harmonypy-0.0.10 igraph-0.11.6 legacy-api-wrap-1.4 leidenalg-0.10.2 pynndescent-0.5.13 scanpy-1.10.2 session-info-1.0.0 stdlib_list-0.10.0 symphonypy-0.2.1 texttable-1.7.0 umap-learn-0.5.6\n",
            "Downloading...\n",
            "From: https://drive.google.com/uc?id=1jW548g6ERFS0t7NywgyjRs6VaE5QwXbg&confirm=T\n",
            "To: /content/PBMC_Satija.h5ad\n",
            "100% 243M/243M [00:02<00:00, 106MB/s] \n"
          ]
        }
      ],
      "source": [
        "!pip install scanpy[leiden] harmonypy symphonypy\n",
        "!gdown \"1jW548g6ERFS0t7NywgyjRs6VaE5QwXbg&confirm=T\"\n",
        "import numpy as np\n",
        "import pandas as pd\n",
        "import seaborn as sns\n",
        "import matplotlib.pyplot as plt\n",
        "import scanpy as sc\n",
        "import scanpy.external as sce\n",
        "sns.set_style(\"ticks\")\n",
        "sc.settings.verbosity = 3\n",
        "sc.set_figure_params(dpi=150)"
      ]
    },
    {
      "cell_type": "markdown",
      "source": [
        "scanorama"
      ],
      "metadata": {
        "id": "oTEV9YIEdrRq"
      }
    },
    {
      "cell_type": "code",
      "source": [
        "!pip install git+https://github.com/theislab/scanpy.git\n",
        "!pip install git+https://github.com/theislab/anndata.git\n",
        "!pip install scanorama\n",
        "import scanorama"
      ],
      "metadata": {
        "colab": {
          "base_uri": "https://localhost:8080/"
        },
        "id": "rP4Exm5pdgob",
        "outputId": "ea242898-70ca-4ab4-93d4-3c45c6a404e6"
      },
      "execution_count": 2,
      "outputs": [
        {
          "output_type": "stream",
          "name": "stdout",
          "text": [
            "Collecting git+https://github.com/theislab/scanpy.git\n",
            "  Cloning https://github.com/theislab/scanpy.git to /tmp/pip-req-build-96lvix1v\n",
            "  Running command git clone --filter=blob:none --quiet https://github.com/theislab/scanpy.git /tmp/pip-req-build-96lvix1v\n",
            "  Resolved https://github.com/theislab/scanpy.git to commit b918a23eb77462837df90d7b3a30a573989d4d48\n",
            "  Running command git submodule update --init --recursive -q\n",
            "  Installing build dependencies ... \u001b[?25l\u001b[?25hdone\n",
            "  Getting requirements to build wheel ... \u001b[?25l\u001b[?25hdone\n",
            "  Preparing metadata (pyproject.toml) ... \u001b[?25l\u001b[?25hdone\n",
            "Requirement already satisfied: anndata>=0.8 in /usr/local/lib/python3.10/dist-packages (from scanpy==1.10.0rc2.dev85+gb918a23e) (0.10.8)\n",
            "Requirement already satisfied: h5py>=3.1 in /usr/local/lib/python3.10/dist-packages (from scanpy==1.10.0rc2.dev85+gb918a23e) (3.9.0)\n",
            "Requirement already satisfied: joblib in /usr/local/lib/python3.10/dist-packages (from scanpy==1.10.0rc2.dev85+gb918a23e) (1.4.2)\n",
            "Requirement already satisfied: legacy-api-wrap>=1.4 in /usr/local/lib/python3.10/dist-packages (from scanpy==1.10.0rc2.dev85+gb918a23e) (1.4)\n",
            "Requirement already satisfied: matplotlib>=3.6 in /usr/local/lib/python3.10/dist-packages (from scanpy==1.10.0rc2.dev85+gb918a23e) (3.7.1)\n",
            "Requirement already satisfied: natsort in /usr/local/lib/python3.10/dist-packages (from scanpy==1.10.0rc2.dev85+gb918a23e) (8.4.0)\n",
            "Requirement already satisfied: networkx>=2.7 in /usr/local/lib/python3.10/dist-packages (from scanpy==1.10.0rc2.dev85+gb918a23e) (3.3)\n",
            "Requirement already satisfied: numba>=0.56 in /usr/local/lib/python3.10/dist-packages (from scanpy==1.10.0rc2.dev85+gb918a23e) (0.58.1)\n",
            "Requirement already satisfied: numpy>=1.23 in /usr/local/lib/python3.10/dist-packages (from scanpy==1.10.0rc2.dev85+gb918a23e) (1.25.2)\n",
            "Requirement already satisfied: packaging>=21.3 in /usr/local/lib/python3.10/dist-packages (from scanpy==1.10.0rc2.dev85+gb918a23e) (24.1)\n",
            "Requirement already satisfied: pandas>=1.5 in /usr/local/lib/python3.10/dist-packages (from scanpy==1.10.0rc2.dev85+gb918a23e) (2.0.3)\n",
            "Requirement already satisfied: patsy in /usr/local/lib/python3.10/dist-packages (from scanpy==1.10.0rc2.dev85+gb918a23e) (0.5.6)\n",
            "Requirement already satisfied: pynndescent>=0.5 in /usr/local/lib/python3.10/dist-packages (from scanpy==1.10.0rc2.dev85+gb918a23e) (0.5.13)\n",
            "Requirement already satisfied: scikit-learn>=0.24 in /usr/local/lib/python3.10/dist-packages (from scanpy==1.10.0rc2.dev85+gb918a23e) (1.2.2)\n",
            "Requirement already satisfied: scipy>=1.8 in /usr/local/lib/python3.10/dist-packages (from scanpy==1.10.0rc2.dev85+gb918a23e) (1.11.4)\n",
            "Requirement already satisfied: seaborn>=0.13 in /usr/local/lib/python3.10/dist-packages (from scanpy==1.10.0rc2.dev85+gb918a23e) (0.13.1)\n",
            "Requirement already satisfied: session-info in /usr/local/lib/python3.10/dist-packages (from scanpy==1.10.0rc2.dev85+gb918a23e) (1.0.0)\n",
            "Requirement already satisfied: statsmodels>=0.13 in /usr/local/lib/python3.10/dist-packages (from scanpy==1.10.0rc2.dev85+gb918a23e) (0.14.2)\n",
            "Requirement already satisfied: tqdm in /usr/local/lib/python3.10/dist-packages (from scanpy==1.10.0rc2.dev85+gb918a23e) (4.66.4)\n",
            "Requirement already satisfied: umap-learn!=0.5.0,>=0.5 in /usr/local/lib/python3.10/dist-packages (from scanpy==1.10.0rc2.dev85+gb918a23e) (0.5.6)\n",
            "Requirement already satisfied: array-api-compat!=1.5,>1.4 in /usr/local/lib/python3.10/dist-packages (from anndata>=0.8->scanpy==1.10.0rc2.dev85+gb918a23e) (1.7.1)\n",
            "Requirement already satisfied: exceptiongroup in /usr/local/lib/python3.10/dist-packages (from anndata>=0.8->scanpy==1.10.0rc2.dev85+gb918a23e) (1.2.1)\n",
            "Requirement already satisfied: contourpy>=1.0.1 in /usr/local/lib/python3.10/dist-packages (from matplotlib>=3.6->scanpy==1.10.0rc2.dev85+gb918a23e) (1.2.1)\n",
            "Requirement already satisfied: cycler>=0.10 in /usr/local/lib/python3.10/dist-packages (from matplotlib>=3.6->scanpy==1.10.0rc2.dev85+gb918a23e) (0.12.1)\n",
            "Requirement already satisfied: fonttools>=4.22.0 in /usr/local/lib/python3.10/dist-packages (from matplotlib>=3.6->scanpy==1.10.0rc2.dev85+gb918a23e) (4.53.1)\n",
            "Requirement already satisfied: kiwisolver>=1.0.1 in /usr/local/lib/python3.10/dist-packages (from matplotlib>=3.6->scanpy==1.10.0rc2.dev85+gb918a23e) (1.4.5)\n",
            "Requirement already satisfied: pillow>=6.2.0 in /usr/local/lib/python3.10/dist-packages (from matplotlib>=3.6->scanpy==1.10.0rc2.dev85+gb918a23e) (9.4.0)\n",
            "Requirement already satisfied: pyparsing>=2.3.1 in /usr/local/lib/python3.10/dist-packages (from matplotlib>=3.6->scanpy==1.10.0rc2.dev85+gb918a23e) (3.1.2)\n",
            "Requirement already satisfied: python-dateutil>=2.7 in /usr/local/lib/python3.10/dist-packages (from matplotlib>=3.6->scanpy==1.10.0rc2.dev85+gb918a23e) (2.8.2)\n",
            "Requirement already satisfied: llvmlite<0.42,>=0.41.0dev0 in /usr/local/lib/python3.10/dist-packages (from numba>=0.56->scanpy==1.10.0rc2.dev85+gb918a23e) (0.41.1)\n",
            "Requirement already satisfied: pytz>=2020.1 in /usr/local/lib/python3.10/dist-packages (from pandas>=1.5->scanpy==1.10.0rc2.dev85+gb918a23e) (2023.4)\n",
            "Requirement already satisfied: tzdata>=2022.1 in /usr/local/lib/python3.10/dist-packages (from pandas>=1.5->scanpy==1.10.0rc2.dev85+gb918a23e) (2024.1)\n",
            "Requirement already satisfied: threadpoolctl>=2.0.0 in /usr/local/lib/python3.10/dist-packages (from scikit-learn>=0.24->scanpy==1.10.0rc2.dev85+gb918a23e) (3.5.0)\n",
            "Requirement already satisfied: six in /usr/local/lib/python3.10/dist-packages (from patsy->scanpy==1.10.0rc2.dev85+gb918a23e) (1.16.0)\n",
            "Requirement already satisfied: stdlib-list in /usr/local/lib/python3.10/dist-packages (from session-info->scanpy==1.10.0rc2.dev85+gb918a23e) (0.10.0)\n",
            "Building wheels for collected packages: scanpy\n",
            "  Building wheel for scanpy (pyproject.toml) ... \u001b[?25l\u001b[?25hdone\n",
            "  Created wheel for scanpy: filename=scanpy-1.10.0rc2.dev85+gb918a23e-py3-none-any.whl size=2084881 sha256=828c2dc8488ba61856db2aba9903262416b5e2ceae0f66c42c16899751683756\n",
            "  Stored in directory: /tmp/pip-ephem-wheel-cache-_10duhri/wheels/0c/3d/ac/0645ab8f6a27d0110d2b16dfd27f9348170a7b8b2ec6b59545\n",
            "Successfully built scanpy\n",
            "Installing collected packages: scanpy\n",
            "  Attempting uninstall: scanpy\n",
            "    Found existing installation: scanpy 1.10.2\n",
            "    Uninstalling scanpy-1.10.2:\n",
            "      Successfully uninstalled scanpy-1.10.2\n",
            "Successfully installed scanpy-1.10.0rc2.dev85+gb918a23e\n",
            "Collecting git+https://github.com/theislab/anndata.git\n",
            "  Cloning https://github.com/theislab/anndata.git to /tmp/pip-req-build-k6cb0w14\n",
            "  Running command git clone --filter=blob:none --quiet https://github.com/theislab/anndata.git /tmp/pip-req-build-k6cb0w14\n",
            "  Resolved https://github.com/theislab/anndata.git to commit 991804420a7202512a12de96e8f166a828125016\n",
            "  Running command git submodule update --init --recursive -q\n",
            "  Installing build dependencies ... \u001b[?25l\u001b[?25hdone\n",
            "  Getting requirements to build wheel ... \u001b[?25l\u001b[?25hdone\n",
            "  Preparing metadata (pyproject.toml) ... \u001b[?25l\u001b[?25hdone\n",
            "Requirement already satisfied: array-api-compat!=1.5,>1.4 in /usr/local/lib/python3.10/dist-packages (from anndata==0.11.0.dev145+g9918044) (1.7.1)\n",
            "Requirement already satisfied: exceptiongroup in /usr/local/lib/python3.10/dist-packages (from anndata==0.11.0.dev145+g9918044) (1.2.1)\n",
            "Requirement already satisfied: h5py>=3.1 in /usr/local/lib/python3.10/dist-packages (from anndata==0.11.0.dev145+g9918044) (3.9.0)\n",
            "Requirement already satisfied: natsort in /usr/local/lib/python3.10/dist-packages (from anndata==0.11.0.dev145+g9918044) (8.4.0)\n",
            "Requirement already satisfied: numpy>=1.23 in /usr/local/lib/python3.10/dist-packages (from anndata==0.11.0.dev145+g9918044) (1.25.2)\n",
            "Requirement already satisfied: packaging>=20.0 in /usr/local/lib/python3.10/dist-packages (from anndata==0.11.0.dev145+g9918044) (24.1)\n",
            "Requirement already satisfied: pandas!=2.1.0rc0,!=2.1.2,>=1.4 in /usr/local/lib/python3.10/dist-packages (from anndata==0.11.0.dev145+g9918044) (2.0.3)\n",
            "Requirement already satisfied: scipy>1.8 in /usr/local/lib/python3.10/dist-packages (from anndata==0.11.0.dev145+g9918044) (1.11.4)\n",
            "Requirement already satisfied: python-dateutil>=2.8.2 in /usr/local/lib/python3.10/dist-packages (from pandas!=2.1.0rc0,!=2.1.2,>=1.4->anndata==0.11.0.dev145+g9918044) (2.8.2)\n",
            "Requirement already satisfied: pytz>=2020.1 in /usr/local/lib/python3.10/dist-packages (from pandas!=2.1.0rc0,!=2.1.2,>=1.4->anndata==0.11.0.dev145+g9918044) (2023.4)\n",
            "Requirement already satisfied: tzdata>=2022.1 in /usr/local/lib/python3.10/dist-packages (from pandas!=2.1.0rc0,!=2.1.2,>=1.4->anndata==0.11.0.dev145+g9918044) (2024.1)\n",
            "Requirement already satisfied: six>=1.5 in /usr/local/lib/python3.10/dist-packages (from python-dateutil>=2.8.2->pandas!=2.1.0rc0,!=2.1.2,>=1.4->anndata==0.11.0.dev145+g9918044) (1.16.0)\n",
            "Building wheels for collected packages: anndata\n",
            "  Building wheel for anndata (pyproject.toml) ... \u001b[?25l\u001b[?25hdone\n",
            "  Created wheel for anndata: filename=anndata-0.11.0.dev145+g9918044-py3-none-any.whl size=132914 sha256=d9202964bca791f0750d95706afb42529fb3ea30bc15f3dc01651225e579105a\n",
            "  Stored in directory: /tmp/pip-ephem-wheel-cache-g4c8g17u/wheels/b9/3d/74/6e4dc8a6c27f8d5bfd5977d17e268c3e40f34496464bbfc73c\n",
            "Successfully built anndata\n",
            "Installing collected packages: anndata\n",
            "  Attempting uninstall: anndata\n",
            "    Found existing installation: anndata 0.10.8\n",
            "    Uninstalling anndata-0.10.8:\n",
            "      Successfully uninstalled anndata-0.10.8\n",
            "Successfully installed anndata-0.11.0.dev145+g9918044\n",
            "Collecting scanorama\n",
            "  Downloading scanorama-1.7.4-py3-none-any.whl (12 kB)\n",
            "Collecting annoy>=1.11.5 (from scanorama)\n",
            "  Downloading annoy-1.17.3.tar.gz (647 kB)\n",
            "\u001b[2K     \u001b[90m━━━━━━━━━━━━━━━━━━━━━━━━━━━━━━━━━━━━━━━━\u001b[0m \u001b[32m647.5/647.5 kB\u001b[0m \u001b[31m5.1 MB/s\u001b[0m eta \u001b[36m0:00:00\u001b[0m\n",
            "\u001b[?25h  Preparing metadata (setup.py) ... \u001b[?25l\u001b[?25hdone\n",
            "Collecting fbpca>=1.0 (from scanorama)\n",
            "  Downloading fbpca-1.0.tar.gz (11 kB)\n",
            "  Preparing metadata (setup.py) ... \u001b[?25l\u001b[?25hdone\n",
            "Collecting geosketch>=1.0 (from scanorama)\n",
            "  Downloading geosketch-1.2-py3-none-any.whl (8.2 kB)\n",
            "Collecting intervaltree>=3.1.0 (from scanorama)\n",
            "  Downloading intervaltree-3.1.0.tar.gz (32 kB)\n",
            "  Preparing metadata (setup.py) ... \u001b[?25l\u001b[?25hdone\n",
            "Requirement already satisfied: matplotlib>=2.0.2 in /usr/local/lib/python3.10/dist-packages (from scanorama) (3.7.1)\n",
            "Requirement already satisfied: numpy>=1.12.0 in /usr/local/lib/python3.10/dist-packages (from scanorama) (1.25.2)\n",
            "Requirement already satisfied: scipy>=1.0.0 in /usr/local/lib/python3.10/dist-packages (from scanorama) (1.11.4)\n",
            "Requirement already satisfied: scikit-learn>=0.20rc1 in /usr/local/lib/python3.10/dist-packages (from scanorama) (1.2.2)\n",
            "Requirement already satisfied: sortedcontainers<3.0,>=2.0 in /usr/local/lib/python3.10/dist-packages (from intervaltree>=3.1.0->scanorama) (2.4.0)\n",
            "Requirement already satisfied: contourpy>=1.0.1 in /usr/local/lib/python3.10/dist-packages (from matplotlib>=2.0.2->scanorama) (1.2.1)\n",
            "Requirement already satisfied: cycler>=0.10 in /usr/local/lib/python3.10/dist-packages (from matplotlib>=2.0.2->scanorama) (0.12.1)\n",
            "Requirement already satisfied: fonttools>=4.22.0 in /usr/local/lib/python3.10/dist-packages (from matplotlib>=2.0.2->scanorama) (4.53.1)\n",
            "Requirement already satisfied: kiwisolver>=1.0.1 in /usr/local/lib/python3.10/dist-packages (from matplotlib>=2.0.2->scanorama) (1.4.5)\n",
            "Requirement already satisfied: packaging>=20.0 in /usr/local/lib/python3.10/dist-packages (from matplotlib>=2.0.2->scanorama) (24.1)\n",
            "Requirement already satisfied: pillow>=6.2.0 in /usr/local/lib/python3.10/dist-packages (from matplotlib>=2.0.2->scanorama) (9.4.0)\n",
            "Requirement already satisfied: pyparsing>=2.3.1 in /usr/local/lib/python3.10/dist-packages (from matplotlib>=2.0.2->scanorama) (3.1.2)\n",
            "Requirement already satisfied: python-dateutil>=2.7 in /usr/local/lib/python3.10/dist-packages (from matplotlib>=2.0.2->scanorama) (2.8.2)\n",
            "Requirement already satisfied: joblib>=1.1.1 in /usr/local/lib/python3.10/dist-packages (from scikit-learn>=0.20rc1->scanorama) (1.4.2)\n",
            "Requirement already satisfied: threadpoolctl>=2.0.0 in /usr/local/lib/python3.10/dist-packages (from scikit-learn>=0.20rc1->scanorama) (3.5.0)\n",
            "Requirement already satisfied: six>=1.5 in /usr/local/lib/python3.10/dist-packages (from python-dateutil>=2.7->matplotlib>=2.0.2->scanorama) (1.16.0)\n",
            "Building wheels for collected packages: annoy, fbpca, intervaltree\n",
            "  Building wheel for annoy (setup.py) ... \u001b[?25l\u001b[?25hdone\n",
            "  Created wheel for annoy: filename=annoy-1.17.3-cp310-cp310-linux_x86_64.whl size=552451 sha256=9b71fd97838f1aa53736a5a3acaca918ace373378979346b0949229ba79a1d24\n",
            "  Stored in directory: /root/.cache/pip/wheels/64/8a/da/f714bcf46c5efdcfcac0559e63370c21abe961c48e3992465a\n",
            "  Building wheel for fbpca (setup.py) ... \u001b[?25l\u001b[?25hdone\n",
            "  Created wheel for fbpca: filename=fbpca-1.0-py3-none-any.whl size=11373 sha256=24f04622e9fc162455928b3ac9bee3e63b3a3e0a3cd8a58d00dba0144deceb1f\n",
            "  Stored in directory: /root/.cache/pip/wheels/3c/ea/60/8d1c9fbbc99492a1775b36a5e29c8c1ef309cc5821bd5a219d\n",
            "  Building wheel for intervaltree (setup.py) ... \u001b[?25l\u001b[?25hdone\n",
            "  Created wheel for intervaltree: filename=intervaltree-3.1.0-py2.py3-none-any.whl size=26096 sha256=6e2a1bf0bd553f4c8245fb7bd0ddaab9afac52686b9a2bda2fc55d5eb324705c\n",
            "  Stored in directory: /root/.cache/pip/wheels/fa/80/8c/43488a924a046b733b64de3fac99252674c892a4c3801c0a61\n",
            "Successfully built annoy fbpca intervaltree\n",
            "Installing collected packages: fbpca, annoy, intervaltree, geosketch, scanorama\n",
            "Successfully installed annoy-1.17.3 fbpca-1.0 geosketch-1.2 intervaltree-3.1.0 scanorama-1.7.4\n"
          ]
        }
      ]
    },
    {
      "cell_type": "markdown",
      "source": [
        "BBKNN"
      ],
      "metadata": {
        "id": "TlSV8np8eL9H"
      }
    },
    {
      "cell_type": "code",
      "source": [
        "!pip install bbknn\n",
        "import bbknn"
      ],
      "metadata": {
        "colab": {
          "base_uri": "https://localhost:8080/"
        },
        "id": "kLSh8ojTeLDR",
        "outputId": "a1ba0b09-3f03-4598-c27a-f58785f4db65"
      },
      "execution_count": 3,
      "outputs": [
        {
          "output_type": "stream",
          "name": "stdout",
          "text": [
            "Collecting bbknn\n",
            "  Downloading bbknn-1.6.0-py3-none-any.whl (14 kB)\n",
            "Requirement already satisfied: Cython in /usr/local/lib/python3.10/dist-packages (from bbknn) (3.0.10)\n",
            "Requirement already satisfied: scipy>=1.6.0 in /usr/local/lib/python3.10/dist-packages (from bbknn) (1.11.4)\n",
            "Requirement already satisfied: numpy in /usr/local/lib/python3.10/dist-packages (from bbknn) (1.25.2)\n",
            "Requirement already satisfied: pandas in /usr/local/lib/python3.10/dist-packages (from bbknn) (2.0.3)\n",
            "Requirement already satisfied: annoy in /usr/local/lib/python3.10/dist-packages (from bbknn) (1.17.3)\n",
            "Requirement already satisfied: pynndescent in /usr/local/lib/python3.10/dist-packages (from bbknn) (0.5.13)\n",
            "Requirement already satisfied: umap-learn in /usr/local/lib/python3.10/dist-packages (from bbknn) (0.5.6)\n",
            "Requirement already satisfied: scikit-learn>=1.0.2 in /usr/local/lib/python3.10/dist-packages (from bbknn) (1.2.2)\n",
            "Requirement already satisfied: joblib>=1.1.1 in /usr/local/lib/python3.10/dist-packages (from scikit-learn>=1.0.2->bbknn) (1.4.2)\n",
            "Requirement already satisfied: threadpoolctl>=2.0.0 in /usr/local/lib/python3.10/dist-packages (from scikit-learn>=1.0.2->bbknn) (3.5.0)\n",
            "Requirement already satisfied: python-dateutil>=2.8.2 in /usr/local/lib/python3.10/dist-packages (from pandas->bbknn) (2.8.2)\n",
            "Requirement already satisfied: pytz>=2020.1 in /usr/local/lib/python3.10/dist-packages (from pandas->bbknn) (2023.4)\n",
            "Requirement already satisfied: tzdata>=2022.1 in /usr/local/lib/python3.10/dist-packages (from pandas->bbknn) (2024.1)\n",
            "Requirement already satisfied: numba>=0.51.2 in /usr/local/lib/python3.10/dist-packages (from pynndescent->bbknn) (0.58.1)\n",
            "Requirement already satisfied: llvmlite>=0.30 in /usr/local/lib/python3.10/dist-packages (from pynndescent->bbknn) (0.41.1)\n",
            "Requirement already satisfied: tqdm in /usr/local/lib/python3.10/dist-packages (from umap-learn->bbknn) (4.66.4)\n",
            "Requirement already satisfied: six>=1.5 in /usr/local/lib/python3.10/dist-packages (from python-dateutil>=2.8.2->pandas->bbknn) (1.16.0)\n",
            "Installing collected packages: bbknn\n",
            "Successfully installed bbknn-1.6.0\n"
          ]
        }
      ]
    },
    {
      "cell_type": "markdown",
      "source": [
        "scVI"
      ],
      "metadata": {
        "id": "0aUj1hB9eTZw"
      }
    },
    {
      "cell_type": "code",
      "source": [
        "!pip install --quiet scvi-colab\n",
        "from scvi_colab import install"
      ],
      "metadata": {
        "id": "GUvyRba1eVX_"
      },
      "execution_count": 4,
      "outputs": []
    },
    {
      "cell_type": "code",
      "source": [
        "install()\n",
        "\n",
        "import scvi\n",
        "import torch\n",
        "import os\n",
        "import tempfile"
      ],
      "metadata": {
        "colab": {
          "base_uri": "https://localhost:8080/",
          "height": 380
        },
        "id": "LS2vZ-drebSL",
        "outputId": "7a5448f4-9469-4e27-d7df-edff7344f1ea"
      },
      "execution_count": 6,
      "outputs": [
        {
          "output_type": "stream",
          "name": "stdout",
          "text": [
            "\u001b[34mINFO    \u001b[0m scvi-colab: Installing scvi-tools.                                                                        \n"
          ]
        },
        {
          "output_type": "error",
          "ename": "KeyboardInterrupt",
          "evalue": "",
          "traceback": [
            "\u001b[0;31m---------------------------------------------------------------------------\u001b[0m",
            "\u001b[0;31mKeyboardInterrupt\u001b[0m                         Traceback (most recent call last)",
            "\u001b[0;32m<ipython-input-6-016fe6f88526>\u001b[0m in \u001b[0;36m<cell line: 1>\u001b[0;34m()\u001b[0m\n\u001b[0;32m----> 1\u001b[0;31m \u001b[0minstall\u001b[0m\u001b[0;34m(\u001b[0m\u001b[0;34m)\u001b[0m\u001b[0;34m\u001b[0m\u001b[0;34m\u001b[0m\u001b[0m\n\u001b[0m\u001b[1;32m      2\u001b[0m \u001b[0;34m\u001b[0m\u001b[0m\n\u001b[1;32m      3\u001b[0m \u001b[0;32mimport\u001b[0m \u001b[0mscvi\u001b[0m\u001b[0;34m\u001b[0m\u001b[0;34m\u001b[0m\u001b[0m\n\u001b[1;32m      4\u001b[0m \u001b[0;32mimport\u001b[0m \u001b[0mtorch\u001b[0m\u001b[0;34m\u001b[0m\u001b[0;34m\u001b[0m\u001b[0m\n\u001b[1;32m      5\u001b[0m \u001b[0;32mimport\u001b[0m \u001b[0mos\u001b[0m\u001b[0;34m\u001b[0m\u001b[0;34m\u001b[0m\u001b[0m\n",
            "\u001b[0;32m/usr/local/lib/python3.10/dist-packages/scvi_colab/_core.py\u001b[0m in \u001b[0;36minstall\u001b[0;34m(version, branch, run_outside_colab, unfixed)\u001b[0m\n\u001b[1;32m     75\u001b[0m         )\n\u001b[1;32m     76\u001b[0m         \u001b[0mcommand\u001b[0m \u001b[0;34m=\u001b[0m \u001b[0;34mf\"pip install --quiet git+{repo}\"\u001b[0m\u001b[0;34m\u001b[0m\u001b[0;34m\u001b[0m\u001b[0m\n\u001b[0;32m---> 77\u001b[0;31m     \u001b[0m_run_command\u001b[0m\u001b[0;34m(\u001b[0m\u001b[0mcommand\u001b[0m\u001b[0;34m)\u001b[0m\u001b[0;34m\u001b[0m\u001b[0;34m\u001b[0m\u001b[0m\n\u001b[0m\u001b[1;32m     78\u001b[0m \u001b[0;34m\u001b[0m\u001b[0m\n\u001b[1;32m     79\u001b[0m     \u001b[0mlogger\u001b[0m\u001b[0;34m.\u001b[0m\u001b[0minfo\u001b[0m\u001b[0;34m(\u001b[0m\u001b[0;34m\"Install successful. Testing import.\"\u001b[0m\u001b[0;34m)\u001b[0m\u001b[0;34m\u001b[0m\u001b[0;34m\u001b[0m\u001b[0m\n",
            "\u001b[0;32m/usr/local/lib/python3.10/dist-packages/scvi_colab/_core.py\u001b[0m in \u001b[0;36m_run_command\u001b[0;34m(command)\u001b[0m\n\u001b[1;32m     90\u001b[0m \u001b[0;34m\u001b[0m\u001b[0m\n\u001b[1;32m     91\u001b[0m     \u001b[0mprocess\u001b[0m \u001b[0;34m=\u001b[0m \u001b[0msubprocess\u001b[0m\u001b[0;34m.\u001b[0m\u001b[0mPopen\u001b[0m\u001b[0;34m(\u001b[0m\u001b[0mcommand\u001b[0m\u001b[0;34m.\u001b[0m\u001b[0msplit\u001b[0m\u001b[0;34m(\u001b[0m\u001b[0;34m)\u001b[0m\u001b[0;34m,\u001b[0m \u001b[0mstdout\u001b[0m\u001b[0;34m=\u001b[0m\u001b[0msubprocess\u001b[0m\u001b[0;34m.\u001b[0m\u001b[0mPIPE\u001b[0m\u001b[0;34m)\u001b[0m\u001b[0;34m\u001b[0m\u001b[0;34m\u001b[0m\u001b[0m\n\u001b[0;32m---> 92\u001b[0;31m     \u001b[0moutput\u001b[0m\u001b[0;34m,\u001b[0m \u001b[0merror\u001b[0m \u001b[0;34m=\u001b[0m \u001b[0mprocess\u001b[0m\u001b[0;34m.\u001b[0m\u001b[0mcommunicate\u001b[0m\u001b[0;34m(\u001b[0m\u001b[0;34m)\u001b[0m\u001b[0;34m\u001b[0m\u001b[0;34m\u001b[0m\u001b[0m\n\u001b[0m",
            "\u001b[0;32m/usr/lib/python3.10/subprocess.py\u001b[0m in \u001b[0;36mcommunicate\u001b[0;34m(self, input, timeout)\u001b[0m\n\u001b[1;32m   1139\u001b[0m                 \u001b[0mself\u001b[0m\u001b[0;34m.\u001b[0m\u001b[0m_stdin_write\u001b[0m\u001b[0;34m(\u001b[0m\u001b[0minput\u001b[0m\u001b[0;34m)\u001b[0m\u001b[0;34m\u001b[0m\u001b[0;34m\u001b[0m\u001b[0m\n\u001b[1;32m   1140\u001b[0m             \u001b[0;32melif\u001b[0m \u001b[0mself\u001b[0m\u001b[0;34m.\u001b[0m\u001b[0mstdout\u001b[0m\u001b[0;34m:\u001b[0m\u001b[0;34m\u001b[0m\u001b[0;34m\u001b[0m\u001b[0m\n\u001b[0;32m-> 1141\u001b[0;31m                 \u001b[0mstdout\u001b[0m \u001b[0;34m=\u001b[0m \u001b[0mself\u001b[0m\u001b[0;34m.\u001b[0m\u001b[0mstdout\u001b[0m\u001b[0;34m.\u001b[0m\u001b[0mread\u001b[0m\u001b[0;34m(\u001b[0m\u001b[0;34m)\u001b[0m\u001b[0;34m\u001b[0m\u001b[0;34m\u001b[0m\u001b[0m\n\u001b[0m\u001b[1;32m   1142\u001b[0m                 \u001b[0mself\u001b[0m\u001b[0;34m.\u001b[0m\u001b[0mstdout\u001b[0m\u001b[0;34m.\u001b[0m\u001b[0mclose\u001b[0m\u001b[0;34m(\u001b[0m\u001b[0;34m)\u001b[0m\u001b[0;34m\u001b[0m\u001b[0;34m\u001b[0m\u001b[0m\n\u001b[1;32m   1143\u001b[0m             \u001b[0;32melif\u001b[0m \u001b[0mself\u001b[0m\u001b[0;34m.\u001b[0m\u001b[0mstderr\u001b[0m\u001b[0;34m:\u001b[0m\u001b[0;34m\u001b[0m\u001b[0;34m\u001b[0m\u001b[0m\n",
            "\u001b[0;31mKeyboardInterrupt\u001b[0m: "
          ]
        }
      ]
    },
    {
      "cell_type": "code",
      "source": [
        "adata = sc.read_h5ad(\"PBMC_Satija.h5ad\")\n",
        "del (\n",
        "    adata.obs[\"celltype.l3\"],\n",
        "    adata.obs[\"Phase\"],\n",
        "    adata.obs[\"time\"],\n",
        "    adata.obs[\"lane\"],\n",
        ")\n",
        "adata.var[\"mt\"] = adata.var.index.str.startswith(\"MT-\")\n",
        "sc.pp.calculate_qc_metrics(\n",
        "    adata,\n",
        "    qc_vars=[\"mt\"],\n",
        "    percent_top=None,\n",
        "    inplace=True,\n",
        "    log1p=False,\n",
        ")\n",
        "\n",
        "adata = adata[adata.obs.n_genes_by_counts >= 700]\n",
        "sc.pp.normalize_total(adata, inplace=True)\n",
        "sc.pp.log1p(adata)\n",
        "sc.pp.highly_variable_genes(adata, flavor=\"seurat\", n_top_genes=2000, inplace=True)\n",
        "adata_preprc = adata.copy()"
      ],
      "metadata": {
        "id": "TvJL5xktedmP"
      },
      "execution_count": null,
      "outputs": []
    },
    {
      "cell_type": "markdown",
      "source": [
        "scanorama"
      ],
      "metadata": {
        "id": "V0VW0bF0er7M"
      }
    },
    {
      "cell_type": "code",
      "source": [
        "adata_scn = adata_preprc.copy()"
      ],
      "metadata": {
        "id": "Ik-2Wwq_ekXA"
      },
      "execution_count": null,
      "outputs": []
    },
    {
      "cell_type": "code",
      "source": [
        "corrected = scanorama.correct_scanpy([adata_scn[adata_scn.obs['donor'] == \"P1\"],adata_scn[adata_scn.obs['donor'] == \"P2\"],adata_scn[adata_scn.obs['donor'] == \"P3\"]])"
      ],
      "metadata": {
        "id": "cRMVf1xTe3bf"
      },
      "execution_count": null,
      "outputs": []
    },
    {
      "cell_type": "code",
      "source": [
        "corrected = scanorama.correct_scanpy([adata_scn[adata_scn.obs['donor'] == \"P1\"],adata_scn[adata_scn.obs['donor'] == \"P2\"],adata_scn[adata_scn.obs['donor'] == \"P3\"]])"
      ],
      "metadata": {
        "id": "p877BwIze4r1"
      },
      "execution_count": null,
      "outputs": []
    },
    {
      "cell_type": "markdown",
      "source": [
        "BBKNN"
      ],
      "metadata": {
        "id": "hSJFPgDxfAOR"
      }
    },
    {
      "cell_type": "code",
      "source": [
        "adata_b = adata_preprc.copy()"
      ],
      "metadata": {
        "id": "aKtAqPWme7vK"
      },
      "execution_count": null,
      "outputs": []
    },
    {
      "cell_type": "code",
      "source": [
        "sc.pp.pca(adata_b, n_comps=20)"
      ],
      "metadata": {
        "id": "PN8ovfOofEcR"
      },
      "execution_count": null,
      "outputs": []
    },
    {
      "cell_type": "code",
      "source": [
        "sc.pp.neighbors(adata_b)\n",
        "sc.tl.leiden(adata_b)\n",
        "sc.tl.umap(adata_b)\n",
        "sc.pl.umap(adata_b, color=\"donor\")"
      ],
      "metadata": {
        "id": "V3_rP7QtfGRE"
      },
      "execution_count": null,
      "outputs": []
    },
    {
      "cell_type": "code",
      "source": [
        "bbknn.bbknn(adata_b, batch_key='donor')"
      ],
      "metadata": {
        "id": "JFljFIYTfIbz"
      },
      "execution_count": null,
      "outputs": []
    },
    {
      "cell_type": "code",
      "source": [
        "sc.tl.umap(adata_b)\n",
        "sc.pl.umap(adata_b, color=\"donor\", frameon=False, title=\"Batch\")"
      ],
      "metadata": {
        "id": "s5oXaKRafL7s"
      },
      "execution_count": null,
      "outputs": []
    },
    {
      "cell_type": "markdown",
      "source": [
        "scVI"
      ],
      "metadata": {
        "id": "ul_uV-2ofZSr"
      }
    },
    {
      "cell_type": "code",
      "source": [
        "adata = adata_preprc.copy()\n",
        "sc.pp.pca(adata, n_comps=20)"
      ],
      "metadata": {
        "id": "0Oax6YWIfQg4"
      },
      "execution_count": null,
      "outputs": []
    },
    {
      "cell_type": "code",
      "source": [
        "sc.set_figure_params(figsize=(6, 6), frameon=False)\n",
        "sns.set_theme()\n",
        "torch.set_float32_matmul_precision(\"high\")"
      ],
      "metadata": {
        "id": "yIT5wrIvfYxN"
      },
      "execution_count": null,
      "outputs": []
    },
    {
      "cell_type": "code",
      "source": [
        "adata.layers[\"counts\"] = adata_preprc.X.copy()"
      ],
      "metadata": {
        "id": "TW08VrKsffXa"
      },
      "execution_count": null,
      "outputs": []
    },
    {
      "cell_type": "code",
      "source": [
        "scvi.model.SCVI.setup_anndata(\n",
        "    adata,\n",
        "    layer=\"counts\",\n",
        "    categorical_covariate_keys=[\"donor\"],\n",
        ")"
      ],
      "metadata": {
        "id": "0ufVSBrtfhm1"
      },
      "execution_count": null,
      "outputs": []
    },
    {
      "cell_type": "code",
      "source": [
        "model = scvi.model.SCVI(adata)\n",
        "model.train()"
      ],
      "metadata": {
        "id": "03L2WzQcfvNX"
      },
      "execution_count": null,
      "outputs": []
    },
    {
      "cell_type": "code",
      "source": [
        "SCVI_LATENT_KEY = \"X_scVI\"\n",
        "\n",
        "latent = model.get_latent_representation()\n",
        "adata.obsm[SCVI_LATENT_KEY] = latent\n",
        "latent.shape"
      ],
      "metadata": {
        "id": "Gjsd4_w-f_Tj"
      },
      "execution_count": null,
      "outputs": []
    },
    {
      "cell_type": "code",
      "source": [
        "latent = model.get_latent_representation()\n",
        "adata.obsm[\"X_scvi\"] = latent\n",
        "sc.pp.neighbors(adata, use_rep=\"X_scvi\")\n",
        "adata.obsp[\"distances\"]"
      ],
      "metadata": {
        "id": "P7QZYeIHgEtv"
      },
      "execution_count": null,
      "outputs": []
    },
    {
      "cell_type": "code",
      "source": [
        "sc.tl.pca(adata)\n",
        "sc.pp.neighbors(adata, n_pcs=30, n_neighbors=20)\n",
        "sc.tl.umap(adata, min_dist=0.3)"
      ],
      "metadata": {
        "id": "CU2i_I9zgH1J"
      },
      "execution_count": null,
      "outputs": []
    },
    {
      "cell_type": "code",
      "source": [
        "sc.pl.umap(adata, color=\"donor\", frameon=False, title=\"Batch\")"
      ],
      "metadata": {
        "id": "WGBkAnuIgJlv"
      },
      "execution_count": null,
      "outputs": []
    },
    {
      "cell_type": "code",
      "source": [
        "sc.pp.neighbors(adata, use_rep=SCVI_LATENT_KEY)\n",
        "sc.tl.umap(adata, min_dist=0.3)"
      ],
      "metadata": {
        "id": "JeisC1f-gMZp"
      },
      "execution_count": null,
      "outputs": []
    },
    {
      "cell_type": "code",
      "source": [
        "sc.pl.umap(adata, color=\"donor\", frameon=False, title=\"Batch\")"
      ],
      "metadata": {
        "id": "wloSGENBgM6f"
      },
      "execution_count": null,
      "outputs": []
    },
    {
      "cell_type": "markdown",
      "source": [
        "задание 2"
      ],
      "metadata": {
        "id": "5GXu0coXgRJY"
      }
    },
    {
      "cell_type": "code",
      "execution_count": null,
      "metadata": {
        "id": "bXHTucf9vRjt"
      },
      "outputs": [],
      "source": [
        "!wget https://datasets.cellxgene.cziscience.com/455636fa-13c0-41ff-897d-c8a1fe1c7623.h5ad"
      ]
    },
    {
      "cell_type": "code",
      "source": [
        "adata = sc.read_h5ad(\"455636fa-13c0-41ff-897d-c8a1fe1c7623.h5ad\")"
      ],
      "metadata": {
        "id": "BsytTJngXCLq"
      },
      "execution_count": null,
      "outputs": []
    },
    {
      "cell_type": "code",
      "source": [
        "sc.pp.normalize_total(adata, inplace=True)\n",
        "sc.pp.log1p(adata)\n",
        "sc.pp.neighbors(adata)\n",
        "sc.tl.leiden(adata)\n",
        "bbknn.bbknn(adata, batch_key='donor_id')"
      ],
      "metadata": {
        "id": "1BLjfYhtcBgq"
      },
      "execution_count": null,
      "outputs": []
    },
    {
      "cell_type": "code",
      "source": [
        "sc.tl.umap(adata)\n",
        "sc.pl.umap(adata, color=\"cell_type\", frameon=False, title=\"Batch\")"
      ],
      "metadata": {
        "id": "V3sQUfYEbWfp"
      },
      "execution_count": null,
      "outputs": []
    },
    {
      "cell_type": "code",
      "source": [
        "sc.tl.rank_genes_groups(adata, groupby=\"leiden\", method=\"wilcoxon\")"
      ],
      "metadata": {
        "id": "a2m7Qj9cgOmN"
      },
      "execution_count": null,
      "outputs": []
    },
    {
      "cell_type": "code",
      "source": [
        "df = sc.get.rank_genes_groups_df(adata, group=None)\n",
        "df[df.logfoldchanges > 6].head(10)"
      ],
      "metadata": {
        "id": "OmET7w_cgwl6"
      },
      "execution_count": null,
      "outputs": []
    },
    {
      "cell_type": "code",
      "source": [
        "df.sort_values(by = ['scores'], ascending = False).head(10)"
      ],
      "metadata": {
        "id": "DxPzNpBogzGU"
      },
      "execution_count": null,
      "outputs": []
    },
    {
      "cell_type": "code",
      "source": [
        "sc.pl.umap(adata,color=['ENSG00000198938', 'ENSG00000198888', 'ENSG00000185774', 'ENSG00000198886', 'ENSG00000145087', 'ENSG00000198804'] , frameon=False, title=\"Batch\")"
      ],
      "metadata": {
        "id": "3pvv-I80g1Hh"
      },
      "execution_count": null,
      "outputs": []
    }
  ]
}